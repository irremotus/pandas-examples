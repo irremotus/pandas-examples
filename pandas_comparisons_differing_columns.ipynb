{
 "cells": [
  {
   "cell_type": "markdown",
   "metadata": {},
   "source": [
    "# Overview\n",
    "\n",
    "We have a set of data, and a set of known values that a subset of the data should match.\n",
    "The goal is to add two columns to the data.\n",
    "The first column should contain for each row a list of column names whose data in that row differ from the known values.\n",
    "The second column should contain for each row a boolean that is True if the values differ from the known values, and False otherwise."
   ]
  },
  {
   "cell_type": "markdown",
   "metadata": {},
   "source": [
    "Import Pandas"
   ]
  },
  {
   "cell_type": "code",
   "execution_count": null,
   "metadata": {},
   "outputs": [],
   "source": [
    "import pandas as pd"
   ]
  },
  {
   "cell_type": "markdown",
   "metadata": {},
   "source": [
    "Set up our data"
   ]
  },
  {
   "cell_type": "code",
   "execution_count": null,
   "metadata": {},
   "outputs": [],
   "source": [
    "data = pd.DataFrame.from_dict({\n",
    "    \"name_h\": [\"ha\", \"ha\", \"hb\"],\n",
    "    \"name_l\": [\"la\", \"la\", \"lb\"],\n",
    "    \"hc1\": [1,1,2],\n",
    "    \"hc2\": [2,3,4],\n",
    "    \"lc1\": [5,5,6],\n",
    "    \"lc2\": [6,5,6],\n",
    "})\n",
    "data"
   ]
  },
  {
   "cell_type": "markdown",
   "metadata": {},
   "source": [
    "And set up our known values"
   ]
  },
  {
   "cell_type": "code",
   "execution_count": null,
   "metadata": {},
   "outputs": [],
   "source": [
    "knowns_dict = {\n",
    "    \"ha\": {\n",
    "        \"hc1\": 1,\n",
    "        \"hc2\": 2,\n",
    "    },\n",
    "    \"hb\": {\n",
    "        \"hc1\": 3,\n",
    "        \"hc2\": 4,\n",
    "    },\n",
    "    \"la\": {\n",
    "        \"lc1\": 5,\n",
    "        \"lc2\": 6,\n",
    "    },\n",
    "    \"lb\": {\n",
    "        \"lc1\": 7,\n",
    "        \"lc2\": 8,\n",
    "    },\n",
    "}\n",
    "knowns = pd.DataFrame.from_dict(knowns_dict).transpose()\n",
    "knowns"
   ]
  },
  {
   "cell_type": "markdown",
   "metadata": {},
   "source": [
    "Merge our data with our knowns to get a known df that is the same shape/size as our data, that way we can compare them directly"
   ]
  },
  {
   "cell_type": "code",
   "execution_count": null,
   "metadata": {},
   "outputs": [],
   "source": [
    "# Merge based on the heavy names\n",
    "knowns_h = data.merge(knowns, how=\"left\", right_index=True, left_on=\"name_h\", suffixes=[\"_data_h\", None])\n",
    "knowns_h"
   ]
  },
  {
   "cell_type": "code",
   "execution_count": null,
   "metadata": {},
   "outputs": [],
   "source": [
    "# Separately merge based on the light names\n",
    "knowns_l = data.merge(knowns, how=\"left\", right_index=True, left_on=\"name_l\", suffixes=[\"_data_l\", None])\n",
    "knowns_l"
   ]
  },
  {
   "cell_type": "code",
   "execution_count": null,
   "metadata": {},
   "outputs": [],
   "source": [
    "# Combine the heavy and light merges to get the columns from both\n",
    "# Use DataFrame.combine_first so that values aren't overwritten by NaNs\n",
    "# Reindex by the data index and knowns columns so that we only keep the columns/rows we care about\n",
    "known_to_compare = knowns_h.combine_first(knowns_l).reindex(index=data.index, columns=knowns.columns)\n",
    "known_to_compare"
   ]
  },
  {
   "cell_type": "code",
   "execution_count": null,
   "metadata": {},
   "outputs": [],
   "source": [
    "# Start with only the relevant columns from our data\n",
    "df = data[known_to_compare.columns]\n",
    "df"
   ]
  },
  {
   "cell_type": "code",
   "execution_count": null,
   "metadata": {},
   "outputs": [],
   "source": [
    "# Compare to the known values - this produces a multi-level-index on the columns,\n",
    "# and two columns for each original column: \"self\" and \"other\"\n",
    "df = df.compare(known_to_compare, align_axis=1)\n",
    "df"
   ]
  },
  {
   "cell_type": "markdown",
   "metadata": {},
   "source": [
    "Take the subset of the data that _corresponds_ (not _matches_) with the known values.\n",
    "Compare the subset of the data with the known values.\n",
    "Compute a list of the columns that did not match for each row.\n",
    "Add the result to the original data."
   ]
  },
  {
   "cell_type": "code",
   "execution_count": null,
   "metadata": {},
   "outputs": [],
   "source": [
    "# Start with only the relevant columns from our data\n",
    "df = data[known_to_compare.columns]\n",
    "df"
   ]
  },
  {
   "cell_type": "code",
   "execution_count": null,
   "metadata": {},
   "outputs": [],
   "source": [
    "# Compare to the known values - this produces a multi-level-index on the columns,\n",
    "# and two columns for each original column: \"self\" and \"other\"\n",
    "df = df.compare(known_to_compare, align_axis=1)\n",
    "df"
   ]
  },
  {
   "cell_type": "code",
   "execution_count": null,
   "metadata": {},
   "outputs": [],
   "source": [
    "# Get rid of the \"self\" column so that we only have one column per original column, and we don't need the actual values\n",
    "df = df.drop(\"self\", level=1, axis=1)\n",
    "df"
   ]
  },
  {
   "cell_type": "code",
   "execution_count": null,
   "metadata": {},
   "outputs": [],
   "source": [
    "# Get rid of the multi-level-index on the columns, specifically the level that \"self\" and \"other\" were in\n",
    "df = df.droplevel(1, axis=1)\n",
    "df"
   ]
  },
  {
   "cell_type": "code",
   "execution_count": null,
   "metadata": {},
   "outputs": [],
   "source": [
    "# Use the column names as an index\n",
    "df = df.stack(future_stack=True)\n",
    "df"
   ]
  },
  {
   "cell_type": "code",
   "execution_count": null,
   "metadata": {},
   "outputs": [],
   "source": [
    "# Reset the index to put the index values into columns so that we can work with them\n",
    "# The reset_index method produces two columns: level_0 and level_1\n",
    "# level_0 is our original row index from data and level_1 is our column name that compared as different\n",
    "df = df.reset_index()\n",
    "df"
   ]
  },
  {
   "cell_type": "code",
   "execution_count": null,
   "metadata": {},
   "outputs": [],
   "source": [
    "# Drop NA values to get rid of rows that all matched the knowns\n",
    "df = df.dropna(how=\"any\")\n",
    "df"
   ]
  },
  {
   "cell_type": "code",
   "execution_count": null,
   "metadata": {},
   "outputs": [],
   "source": [
    "differing_columns = (\n",
    "    df\n",
    "    # For each row (the \"level_0\" column) take the column name (in the \"level_1\" column)\n",
    "    .groupby(\"level_0\")[\"level_1\"]\n",
    "    # Aggregate the column names into a list for each row\n",
    "    .agg(list)\n",
    "    # Rename the resulting series to make sense instead of \"level_1\"\n",
    "    .rename(\"Differing Columns\")\n",
    ")\n",
    "differing_columns"
   ]
  },
  {
   "cell_type": "code",
   "execution_count": null,
   "metadata": {},
   "outputs": [],
   "source": [
    "# Concatenate the \"differing\" series with the original data\n",
    "dfo = pd.concat([data, differing_columns], axis=1)\n",
    "dfo"
   ]
  },
  {
   "cell_type": "code",
   "execution_count": null,
   "metadata": {},
   "outputs": [],
   "source": [
    "# Create the \"Differs\" column as True if \"Differing Columns\" has columns, otherwise False\n",
    "dfo[\"Differs\"] = dfo[\"Differing Columns\"].notna()\n",
    "# Clean up the new column to make it pretty by replacing NaNs with an empty string\n",
    "dfo.fillna({\"Differing Columns\": \"\"}, inplace=True)\n",
    "dfo"
   ]
  }
 ],
 "metadata": {
  "kernelspec": {
   "display_name": "Python 3 (ipykernel)",
   "language": "python",
   "name": "python3"
  },
  "language_info": {
   "codemirror_mode": {
    "name": "ipython",
    "version": 3
   },
   "file_extension": ".py",
   "mimetype": "text/x-python",
   "name": "python",
   "nbconvert_exporter": "python",
   "pygments_lexer": "ipython3",
   "version": "3.10.13"
  }
 },
 "nbformat": 4,
 "nbformat_minor": 2
}
